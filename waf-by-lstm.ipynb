{
 "cells": [
  {
   "cell_type": "code",
   "execution_count": 1,
   "metadata": {},
   "outputs": [],
   "source": [
    "import tensorflow as tf\n",
    "import sqlite3 as sqlite"
   ]
  },
  {
   "cell_type": "markdown",
   "metadata": {},
   "source": [
    "### 数据库格式\n",
    "\n",
    "\n",
    "| time          | identity                 | platform | route    | method | status | duration |\n",
    "| ------------- | ------------------------ | -------- | -------- | ------ | ------ | -------- |\n",
    "| 1519303089604 | Aoj7QgXnFBRCkri/r9TjWA== | web      | /api/jwc | get    | 200    | 384      |\n",
    "\n",
    "\n",
    "数据表创建如下：\n",
    "\n",
    "```\n",
    "CREATE TABLE stat ( time int not null, identity text not null, platform text not null, route text not null, method text not null, status int not null, duration int not null );\n",
    "```\n",
    "\n",
    "主要关注字段包括：\n",
    "\n",
    "* **time** - 访问时间戳，Unix标准时间戳\n",
    "* **identity** - 用户唯一指定身份标识，在小猴偷米的应用语境下和每一个学生一一对应\n",
    "* **platform** - 用户访问平台，此处关注 <web|ws2-mina-ios|ws2-mina-android|ws2-android|ws2-ios> 五个平台\n",
    "* **route** - 用户访问的业务对象，根据实际访问服务分类，此处关注小猴偷米核心业务中的相关模块\n",
    "* **method** - HTTP请求方法 get | post"
   ]
  },
  {
   "cell_type": "code",
   "execution_count": 4,
   "metadata": {},
   "outputs": [],
   "source": [
    "class Database:\n",
    "    def __init__(self):\n",
    "        self.db_conn = sqlite.connect('stat.db')\n",
    "        self.db_cur = self.db_conn.cursor()\n",
    "    \n",
    "    # 用于获取所有用户的identity\n",
    "    def get_user(self, n=None):\n",
    "        if n is not None:\n",
    "            result = self.db_cur.execute('SELECT DISTINCT identity FROM stat LIMIT %s' % n)\n",
    "        else:\n",
    "            result = self.db_cur.execute('SELECT DISTINCT identity FROM stat')\n",
    "        user_list = []\n",
    "        for i in result:\n",
    "            user_list.append(i[0])\n",
    "        return user_list\n",
    "    \n",
    "    # 查询指定identity用户的最近n条记录\n",
    "    def get_log(self, identity, n):\n",
    "        result = self.db_cur.execute('SELECT identity, time, platform, route, method FROM stat WHERE identity = \"%s\" ORDER BY time DESC LIMIT %d'%(identity, n))\n",
    "        log_list = []\n",
    "        for row in result:\n",
    "            log_list.append({\n",
    "                'identity': row[0],\n",
    "                'time': row[1],\n",
    "                'platform': row[2],\n",
    "                'route': row[3],\n",
    "                'method': row[4]\n",
    "            })\n",
    "        return log_list"
   ]
  },
  {
   "cell_type": "code",
   "execution_count": 3,
   "metadata": {},
   "outputs": [
    {
     "name": "stdout",
     "output_type": "stream",
     "text": [
      "['guest', 'Aoj7QgXnFBRCkri/r9TjWA==', 'nV8jrHHWRwHHI3oYtkT3Vw==', 'ykT33V+QjuUdi++Cl2wWnA==', 'O78YpLDK9YxIC9Lth8LauQ==', 'SDWeRbWwrdQwwU7zQiArvg==', 'FoHTwtdsRFjhVLGNuT8YFw==', 'JzVOXL/VkBfuBrJun2ssyA==', 'W9YKSShiyokq0aKEE+gCug==', '3PNgL1l4ujOcoML1PHg0hA==']\n",
      "[{'identity': 'O78YpLDK9YxIC9Lth8LauQ==', 'time': 1526528030138, 'platform': 'web', 'route': '/api/curriculum', 'method': 'get'}, {'identity': 'O78YpLDK9YxIC9Lth8LauQ==', 'time': 1526528029729, 'platform': 'web', 'route': '/api/phylab', 'method': 'get'}, {'identity': 'O78YpLDK9YxIC9Lth8LauQ==', 'time': 1526528029729, 'platform': 'web', 'route': '/api/library', 'method': 'get'}, {'identity': 'O78YpLDK9YxIC9Lth8LauQ==', 'time': 1526528029729, 'platform': 'web', 'route': '/api/notice', 'method': 'get'}, {'identity': 'O78YpLDK9YxIC9Lth8LauQ==', 'time': 1526528029728, 'platform': 'web', 'route': '/api/term', 'method': 'get'}, {'identity': 'O78YpLDK9YxIC9Lth8LauQ==', 'time': 1526528029728, 'platform': 'web', 'route': '/api/exam', 'method': 'get'}, {'identity': 'O78YpLDK9YxIC9Lth8LauQ==', 'time': 1526528029461, 'platform': 'web', 'route': '/api/activity', 'method': 'get'}, {'identity': 'O78YpLDK9YxIC9Lth8LauQ==', 'time': 1526528029092, 'platform': 'web', 'route': '/api/gpa', 'method': 'get'}, {'identity': 'O78YpLDK9YxIC9Lth8LauQ==', 'time': 1526528029092, 'platform': 'web', 'route': '/api/banner', 'method': 'get'}, {'identity': 'O78YpLDK9YxIC9Lth8LauQ==', 'time': 1526528029091, 'platform': 'web', 'route': '/api/card', 'method': 'get'}, {'identity': 'O78YpLDK9YxIC9Lth8LauQ==', 'time': 1526528029091, 'platform': 'web', 'route': '/api/srtp', 'method': 'get'}, {'identity': 'O78YpLDK9YxIC9Lth8LauQ==', 'time': 1526528029091, 'platform': 'web', 'route': '/api/pe', 'method': 'get'}, {'identity': 'O78YpLDK9YxIC9Lth8LauQ==', 'time': 1526528029091, 'platform': 'web', 'route': '/api/lecture', 'method': 'get'}, {'identity': 'O78YpLDK9YxIC9Lth8LauQ==', 'time': 1526528014536, 'platform': 'web', 'route': '/api/card', 'method': 'put'}, {'identity': 'O78YpLDK9YxIC9Lth8LauQ==', 'time': 1526527994927, 'platform': 'web', 'route': '/api/curriculum', 'method': 'get'}, {'identity': 'O78YpLDK9YxIC9Lth8LauQ==', 'time': 1526527994722, 'platform': 'web', 'route': '/api/notice', 'method': 'get'}, {'identity': 'O78YpLDK9YxIC9Lth8LauQ==', 'time': 1526527994208, 'platform': 'web', 'route': '/api/library', 'method': 'get'}, {'identity': 'O78YpLDK9YxIC9Lth8LauQ==', 'time': 1526527993799, 'platform': 'web', 'route': '/api/phylab', 'method': 'get'}, {'identity': 'O78YpLDK9YxIC9Lth8LauQ==', 'time': 1526527992552, 'platform': 'web', 'route': '/api/term', 'method': 'get'}, {'identity': 'O78YpLDK9YxIC9Lth8LauQ==', 'time': 1526527992551, 'platform': 'web', 'route': '/api/exam', 'method': 'get'}, {'identity': 'O78YpLDK9YxIC9Lth8LauQ==', 'time': 1526527992344, 'platform': 'web', 'route': '/api/activity', 'method': 'get'}, {'identity': 'O78YpLDK9YxIC9Lth8LauQ==', 'time': 1526527992045, 'platform': 'web', 'route': '/api/gpa', 'method': 'get'}, {'identity': 'O78YpLDK9YxIC9Lth8LauQ==', 'time': 1526527992044, 'platform': 'web', 'route': '/api/srtp', 'method': 'get'}, {'identity': 'O78YpLDK9YxIC9Lth8LauQ==', 'time': 1526527992044, 'platform': 'web', 'route': '/api/card', 'method': 'get'}, {'identity': 'O78YpLDK9YxIC9Lth8LauQ==', 'time': 1526527992044, 'platform': 'web', 'route': '/api/pe', 'method': 'get'}, {'identity': 'O78YpLDK9YxIC9Lth8LauQ==', 'time': 1526527992043, 'platform': 'web', 'route': '/api/banner', 'method': 'get'}, {'identity': 'O78YpLDK9YxIC9Lth8LauQ==', 'time': 1526527992043, 'platform': 'web', 'route': '/api/lecture', 'method': 'get'}, {'identity': 'O78YpLDK9YxIC9Lth8LauQ==', 'time': 1526436550866, 'platform': 'web', 'route': '/api/curriculum', 'method': 'get'}, {'identity': 'O78YpLDK9YxIC9Lth8LauQ==', 'time': 1526436550550, 'platform': 'web', 'route': '/api/notice', 'method': 'get'}, {'identity': 'O78YpLDK9YxIC9Lth8LauQ==', 'time': 1526436550549, 'platform': 'web', 'route': '/api/library', 'method': 'get'}, {'identity': 'O78YpLDK9YxIC9Lth8LauQ==', 'time': 1526436550440, 'platform': 'web', 'route': '/api/phylab', 'method': 'get'}, {'identity': 'O78YpLDK9YxIC9Lth8LauQ==', 'time': 1526436550418, 'platform': 'web', 'route': '/api/term', 'method': 'get'}, {'identity': 'O78YpLDK9YxIC9Lth8LauQ==', 'time': 1526436550293, 'platform': 'web', 'route': '/api/exam', 'method': 'get'}, {'identity': 'O78YpLDK9YxIC9Lth8LauQ==', 'time': 1526436550196, 'platform': 'web', 'route': '/api/activity', 'method': 'get'}, {'identity': 'O78YpLDK9YxIC9Lth8LauQ==', 'time': 1526436550105, 'platform': 'web', 'route': '/api/gpa', 'method': 'get'}, {'identity': 'O78YpLDK9YxIC9Lth8LauQ==', 'time': 1526436550102, 'platform': 'web', 'route': '/api/srtp', 'method': 'get'}, {'identity': 'O78YpLDK9YxIC9Lth8LauQ==', 'time': 1526436550096, 'platform': 'web', 'route': '/api/lecture', 'method': 'get'}, {'identity': 'O78YpLDK9YxIC9Lth8LauQ==', 'time': 1526436550093, 'platform': 'web', 'route': '/api/pe', 'method': 'get'}, {'identity': 'O78YpLDK9YxIC9Lth8LauQ==', 'time': 1526436550090, 'platform': 'web', 'route': '/api/card', 'method': 'get'}, {'identity': 'O78YpLDK9YxIC9Lth8LauQ==', 'time': 1526436550061, 'platform': 'web', 'route': '/api/banner', 'method': 'get'}, {'identity': 'O78YpLDK9YxIC9Lth8LauQ==', 'time': 1526431288385, 'platform': 'web', 'route': '/api/health', 'method': 'get'}, {'identity': 'O78YpLDK9YxIC9Lth8LauQ==', 'time': 1526431245674, 'platform': 'web', 'route': '/api/curriculum', 'method': 'get'}, {'identity': 'O78YpLDK9YxIC9Lth8LauQ==', 'time': 1526431245569, 'platform': 'web', 'route': '/api/notice', 'method': 'get'}, {'identity': 'O78YpLDK9YxIC9Lth8LauQ==', 'time': 1526431245556, 'platform': 'web', 'route': '/api/library', 'method': 'get'}, {'identity': 'O78YpLDK9YxIC9Lth8LauQ==', 'time': 1526431244173, 'platform': 'web', 'route': '/api/phylab', 'method': 'get'}, {'identity': 'O78YpLDK9YxIC9Lth8LauQ==', 'time': 1526431244121, 'platform': 'web', 'route': '/api/term', 'method': 'get'}, {'identity': 'O78YpLDK9YxIC9Lth8LauQ==', 'time': 1526431244004, 'platform': 'web', 'route': '/api/exam', 'method': 'get'}, {'identity': 'O78YpLDK9YxIC9Lth8LauQ==', 'time': 1526431243956, 'platform': 'web', 'route': '/api/activity', 'method': 'get'}, {'identity': 'O78YpLDK9YxIC9Lth8LauQ==', 'time': 1526431243765, 'platform': 'web', 'route': '/api/gpa', 'method': 'get'}, {'identity': 'O78YpLDK9YxIC9Lth8LauQ==', 'time': 1526431243764, 'platform': 'web', 'route': '/api/srtp', 'method': 'get'}, {'identity': 'O78YpLDK9YxIC9Lth8LauQ==', 'time': 1526431243758, 'platform': 'web', 'route': '/api/lecture', 'method': 'get'}, {'identity': 'O78YpLDK9YxIC9Lth8LauQ==', 'time': 1526431243757, 'platform': 'web', 'route': '/api/pe', 'method': 'get'}, {'identity': 'O78YpLDK9YxIC9Lth8LauQ==', 'time': 1526431243743, 'platform': 'web', 'route': '/api/card', 'method': 'get'}, {'identity': 'O78YpLDK9YxIC9Lth8LauQ==', 'time': 1526431243741, 'platform': 'web', 'route': '/api/banner', 'method': 'get'}, {'identity': 'O78YpLDK9YxIC9Lth8LauQ==', 'time': 1526009863037, 'platform': 'web', 'route': '/api/card', 'method': 'put'}, {'identity': 'O78YpLDK9YxIC9Lth8LauQ==', 'time': 1526009839262, 'platform': 'web', 'route': '/api/curriculum', 'method': 'get'}, {'identity': 'O78YpLDK9YxIC9Lth8LauQ==', 'time': 1526009839019, 'platform': 'web', 'route': '/api/notice', 'method': 'get'}, {'identity': 'O78YpLDK9YxIC9Lth8LauQ==', 'time': 1526009838904, 'platform': 'web', 'route': '/api/library', 'method': 'get'}, {'identity': 'O78YpLDK9YxIC9Lth8LauQ==', 'time': 1526009837812, 'platform': 'web', 'route': '/api/phylab', 'method': 'get'}, {'identity': 'O78YpLDK9YxIC9Lth8LauQ==', 'time': 1526009837680, 'platform': 'web', 'route': '/api/term', 'method': 'get'}, {'identity': 'O78YpLDK9YxIC9Lth8LauQ==', 'time': 1526009837461, 'platform': 'web', 'route': '/api/exam', 'method': 'get'}, {'identity': 'O78YpLDK9YxIC9Lth8LauQ==', 'time': 1526009837394, 'platform': 'web', 'route': '/api/activity', 'method': 'get'}, {'identity': 'O78YpLDK9YxIC9Lth8LauQ==', 'time': 1526009837205, 'platform': 'web', 'route': '/api/pe', 'method': 'get'}, {'identity': 'O78YpLDK9YxIC9Lth8LauQ==', 'time': 1526009837205, 'platform': 'web', 'route': '/api/card', 'method': 'get'}, {'identity': 'O78YpLDK9YxIC9Lth8LauQ==', 'time': 1526009837204, 'platform': 'web', 'route': '/api/srtp', 'method': 'get'}, {'identity': 'O78YpLDK9YxIC9Lth8LauQ==', 'time': 1526009837203, 'platform': 'web', 'route': '/api/gpa', 'method': 'get'}, {'identity': 'O78YpLDK9YxIC9Lth8LauQ==', 'time': 1526009837202, 'platform': 'web', 'route': '/api/lecture', 'method': 'get'}, {'identity': 'O78YpLDK9YxIC9Lth8LauQ==', 'time': 1526009837181, 'platform': 'web', 'route': '/api/banner', 'method': 'get'}, {'identity': 'O78YpLDK9YxIC9Lth8LauQ==', 'time': 1525823968185, 'platform': 'web', 'route': '/api/health', 'method': 'get'}, {'identity': 'O78YpLDK9YxIC9Lth8LauQ==', 'time': 1525823964557, 'platform': 'web', 'route': '/api/curriculum', 'method': 'get'}, {'identity': 'O78YpLDK9YxIC9Lth8LauQ==', 'time': 1525823964366, 'platform': 'web', 'route': '/api/notice', 'method': 'get'}, {'identity': 'O78YpLDK9YxIC9Lth8LauQ==', 'time': 1525823964217, 'platform': 'web', 'route': '/api/library', 'method': 'get'}, {'identity': 'O78YpLDK9YxIC9Lth8LauQ==', 'time': 1525823964212, 'platform': 'web', 'route': '/api/term', 'method': 'get'}, {'identity': 'O78YpLDK9YxIC9Lth8LauQ==', 'time': 1525823964211, 'platform': 'web', 'route': '/api/phylab', 'method': 'get'}, {'identity': 'O78YpLDK9YxIC9Lth8LauQ==', 'time': 1525823964210, 'platform': 'web', 'route': '/api/exam', 'method': 'get'}, {'identity': 'O78YpLDK9YxIC9Lth8LauQ==', 'time': 1525823964210, 'platform': 'web', 'route': '/api/activity', 'method': 'get'}, {'identity': 'O78YpLDK9YxIC9Lth8LauQ==', 'time': 1525823964007, 'platform': 'web', 'route': '/api/gpa', 'method': 'get'}, {'identity': 'O78YpLDK9YxIC9Lth8LauQ==', 'time': 1525823964003, 'platform': 'web', 'route': '/api/srtp', 'method': 'get'}, {'identity': 'O78YpLDK9YxIC9Lth8LauQ==', 'time': 1525823963997, 'platform': 'web', 'route': '/api/card', 'method': 'get'}, {'identity': 'O78YpLDK9YxIC9Lth8LauQ==', 'time': 1525823963996, 'platform': 'web', 'route': '/api/lecture', 'method': 'get'}, {'identity': 'O78YpLDK9YxIC9Lth8LauQ==', 'time': 1525823963995, 'platform': 'web', 'route': '/api/pe', 'method': 'get'}, {'identity': 'O78YpLDK9YxIC9Lth8LauQ==', 'time': 1525823963994, 'platform': 'web', 'route': '/api/banner', 'method': 'get'}, {'identity': 'O78YpLDK9YxIC9Lth8LauQ==', 'time': 1525822077320, 'platform': 'web', 'route': '/api/curriculum', 'method': 'get'}, {'identity': 'O78YpLDK9YxIC9Lth8LauQ==', 'time': 1525822076952, 'platform': 'web', 'route': '/api/notice', 'method': 'get'}, {'identity': 'O78YpLDK9YxIC9Lth8LauQ==', 'time': 1525822076856, 'platform': 'web', 'route': '/api/library', 'method': 'get'}, {'identity': 'O78YpLDK9YxIC9Lth8LauQ==', 'time': 1525822075120, 'platform': 'web', 'route': '/api/phylab', 'method': 'get'}, {'identity': 'O78YpLDK9YxIC9Lth8LauQ==', 'time': 1525822075040, 'platform': 'web', 'route': '/api/term', 'method': 'get'}, {'identity': 'O78YpLDK9YxIC9Lth8LauQ==', 'time': 1525822074959, 'platform': 'web', 'route': '/api/exam', 'method': 'get'}, {'identity': 'O78YpLDK9YxIC9Lth8LauQ==', 'time': 1525822074934, 'platform': 'web', 'route': '/api/activity', 'method': 'get'}, {'identity': 'O78YpLDK9YxIC9Lth8LauQ==', 'time': 1525822074586, 'platform': 'web', 'route': '/api/pe', 'method': 'get'}, {'identity': 'O78YpLDK9YxIC9Lth8LauQ==', 'time': 1525822074585, 'platform': 'web', 'route': '/api/srtp', 'method': 'get'}, {'identity': 'O78YpLDK9YxIC9Lth8LauQ==', 'time': 1525822074585, 'platform': 'web', 'route': '/api/gpa', 'method': 'get'}, {'identity': 'O78YpLDK9YxIC9Lth8LauQ==', 'time': 1525822074585, 'platform': 'web', 'route': '/api/lecture', 'method': 'get'}, {'identity': 'O78YpLDK9YxIC9Lth8LauQ==', 'time': 1525822074560, 'platform': 'web', 'route': '/api/banner', 'method': 'get'}, {'identity': 'O78YpLDK9YxIC9Lth8LauQ==', 'time': 1525822074559, 'platform': 'web', 'route': '/api/card', 'method': 'get'}, {'identity': 'O78YpLDK9YxIC9Lth8LauQ==', 'time': 1525663529230, 'platform': 'web', 'route': '/api/card', 'method': 'put'}, {'identity': 'O78YpLDK9YxIC9Lth8LauQ==', 'time': 1525663519180, 'platform': 'web', 'route': '/api/curriculum', 'method': 'get'}, {'identity': 'O78YpLDK9YxIC9Lth8LauQ==', 'time': 1525663519140, 'platform': 'web', 'route': '/api/notice', 'method': 'get'}, {'identity': 'O78YpLDK9YxIC9Lth8LauQ==', 'time': 1525663519104, 'platform': 'web', 'route': '/api/library', 'method': 'get'}, {'identity': 'O78YpLDK9YxIC9Lth8LauQ==', 'time': 1525663519064, 'platform': 'web', 'route': '/api/phylab', 'method': 'get'}]\n"
     ]
    }
   ],
   "source": [
    "# 数据库访问示例\n",
    "db = Database()\n",
    "user_list = db.get_user(10)\n",
    "print(user_list)\n",
    "log = db.get_log('O78YpLDK9YxIC9Lth8LauQ==', 100)\n",
    "print(log)"
   ]
  },
  {
   "cell_type": "code",
   "execution_count": null,
   "metadata": {},
   "outputs": [],
   "source": []
  },
  {
   "cell_type": "code",
   "execution_count": null,
   "metadata": {},
   "outputs": [],
   "source": []
  },
  {
   "cell_type": "code",
   "execution_count": null,
   "metadata": {},
   "outputs": [],
   "source": []
  }
 ],
 "metadata": {
  "kernelspec": {
   "display_name": "Python 3",
   "language": "python",
   "name": "python3"
  },
  "language_info": {
   "codemirror_mode": {
    "name": "ipython",
    "version": 3
   },
   "file_extension": ".py",
   "mimetype": "text/x-python",
   "name": "python",
   "nbconvert_exporter": "python",
   "pygments_lexer": "ipython3",
   "version": "3.6.5"
  }
 },
 "nbformat": 4,
 "nbformat_minor": 2
}
